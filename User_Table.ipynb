{
 "cells": [
  {
   "attachments": {},
   "cell_type": "markdown",
   "metadata": {},
   "source": [
    "generate_user_table():\n",
    "➢ Establish a connection to the test_db.\n",
    "➢ Create a user table with the following fields:"
   ]
  },
  {
   "cell_type": "code",
   "execution_count": 2,
   "metadata": {},
   "outputs": [],
   "source": [
    "import mysql.connector as mariadb"
   ]
  },
  {
   "cell_type": "code",
   "execution_count": 3,
   "metadata": {},
   "outputs": [
    {
     "name": "stdout",
     "output_type": "stream",
     "text": [
      "Connected to MariaDB Database\n",
      "User_Table Created and Inserted values Successfully\n"
     ]
    }
   ],
   "source": [
    "\n",
    "def generate_user_table():\n",
    "    con=mariadb.connect(user=\"root\",\n",
    "                        password=\"samundeeswari\",\n",
    "                        database=\"test_sam_db\")\n",
    "    print(\"Connected to MariaDB Database\")\n",
    "    cur=con.cursor()\n",
    "    st=\"create table User_Table\\\n",
    "        (email varchar(100), name varchar(50), password varchar(30))\"\n",
    "    cur.execute(st)\n",
    "    st=\"insert into User_Table(email,name,password)\\\n",
    "                values('chamu.grm@gmail.com','Chamu','passchamu'),\\\n",
    "                        ('mani.grm@yahoo.com','Mani','passmani'),\\\n",
    "                        ('SamSam@gmail.com','samsam','passsam')\"\n",
    "\n",
    "    cur.execute(st)\n",
    "    con.commit()\n",
    "    # cur.execute(stInsert)\n",
    "    print(\"User_Table Created and Inserted values Successfully\")\n",
    "    con.close()\n",
    "generate_user_table()"
   ]
  },
  {
   "attachments": {},
   "cell_type": "markdown",
   "metadata": {},
   "source": [
    "get_all_users():\n",
    "➢ Establish a connection to the test_db.\n",
    "➢ Print out the email, name, and password of all\n",
    "users."
   ]
  },
  {
   "cell_type": "code",
   "execution_count": 4,
   "metadata": {},
   "outputs": [
    {
     "name": "stdout",
     "output_type": "stream",
     "text": [
      "Connected to MariaDB Database\n",
      "Email: chamu.grm@gmail.com, Name: Chamu, Password: passchamu\n",
      "Email: mani.grm@yahoo.com, Name: Mani, Password: passmani\n",
      "Email: SamSam@gmail.com, Name: samsam, Password: passsam\n"
     ]
    }
   ],
   "source": [
    "def get_all_users():\n",
    "    con=mariadb.connect(user=\"root\",\n",
    "                        password=\"samundeeswari\",\n",
    "                        database=\"test_sam_db\")\n",
    "    print(\"Connected to MariaDB Database\")\n",
    "    cur=con.cursor()\n",
    "    st=\"select * from user_table\"\n",
    "    cur.execute(st)\n",
    "    for row in cur:\n",
    "        print(f\"Email: {row[0]}, Name: {row[1]}, Password: {row[2]}\")\n",
    "    \n",
    "    con.close()\n",
    "get_all_users()\n"
   ]
  },
  {
   "attachments": {},
   "cell_type": "markdown",
   "metadata": {},
   "source": [
    "get_user_by_name(name):\n",
    "➢ Establish a connection to the test_db.\n",
    "➢ Print out the email and password of the user with\n",
    "the given name."
   ]
  },
  {
   "cell_type": "code",
   "execution_count": 10,
   "metadata": {},
   "outputs": [
    {
     "name": "stdout",
     "output_type": "stream",
     "text": [
      "Connected to MariaDB Database\n",
      "[('SamSam@gmail.com', 'passsam')]\n"
     ]
    }
   ],
   "source": [
    "def get_user_by_name(name):\n",
    "    con=mariadb.connect(user=\"root\",\n",
    "                        password=\"samundeeswari\",\n",
    "                        database=\"test_sam_db\"\n",
    "                        )\n",
    "    print(\"Connected to MariaDB Database\")\n",
    "    cur=con.cursor()\n",
    "    st=\"select email,password from user_table where name='{}'\"\n",
    "    cur.execute(st.format(name))\n",
    "    result=cur.fetchall()\n",
    "    print(result)\n",
    "    con.close()\n",
    "get_user_by_name(\"Samsam\")\n"
   ]
  },
  {
   "cell_type": "markdown",
   "metadata": {},
   "source": [
    "validate_user(email, password):\n",
    "➢ Establish a connection to the test_db.\n",
    "➢ Return True if a user exists with the given email and\n",
    "password. Return False otherwise."
   ]
  },
  {
   "cell_type": "code",
   "execution_count": 29,
   "metadata": {},
   "outputs": [
    {
     "name": "stdout",
     "output_type": "stream",
     "text": [
      "Connected to MariaDB Database\n"
     ]
    },
    {
     "data": {
      "text/plain": [
       "True"
      ]
     },
     "execution_count": 29,
     "metadata": {},
     "output_type": "execute_result"
    }
   ],
   "source": [
    "def validate_user(email1,password1):\n",
    "    con=mariadb.connect(user=\"root\",\n",
    "                        password=\"samundeeswari\",\n",
    "                        database=\"test_sam_db\"\n",
    "                        )\n",
    "    print(\"Connected to MariaDB Database\")\n",
    "    cur=con.cursor()\n",
    "\n",
    "    st=\"select * from user_table where email='{}' and password='{}'\"\n",
    "    cur.execute(st.format(email1,password1))\n",
    "    result=cur.fetchall()\n",
    "    con.close()\n",
    "    # print(result)\n",
    "    if result:\n",
    "        return True\n",
    "    else:\n",
    "        return False\n",
    "\n",
    "   \n",
    "validate_user(\"Samsam@gmail.com\",\"passsam\")"
   ]
  },
  {
   "attachments": {},
   "cell_type": "markdown",
   "metadata": {},
   "source": [
    "update_user(email, name, password):\n",
    "➢ Establish a connection to the test_db.\n",
    "➢ For the user with the given email, set the values of\n",
    "name and password to the given name and\n",
    "password.\n",
    "➢ Return True if successful, False otherwise."
   ]
  },
  {
   "cell_type": "code",
   "execution_count": 4,
   "metadata": {},
   "outputs": [
    {
     "name": "stdout",
     "output_type": "stream",
     "text": [
      "Connected to MariaDB Database\n"
     ]
    },
    {
     "data": {
      "text/plain": [
       "True"
      ]
     },
     "execution_count": 4,
     "metadata": {},
     "output_type": "execute_result"
    }
   ],
   "source": [
    "def update_user(email1,name1,password1):\n",
    "    con=mariadb.connect(user=\"root\",\n",
    "                        password=\"samundeeswari\",\n",
    "                        database=\"test_sam_db\"\n",
    "                        )\n",
    "    print(\"Connected to MariaDB Database\")\n",
    "    cur=con.cursor()\n",
    "    st=f\"update user_table set name='{name1}', password='{password1}' where email='{email1}'\"\n",
    "    result=cur.execute(st)\n",
    "    \n",
    "    con.commit()\n",
    "    if cur.rowcount ==0:\n",
    "        return False\n",
    "    else:\n",
    "        return True\n",
    "    \n",
    "    \n",
    "    con.close()\n",
    "update_user('Samsam@gmail.com','samsamsam','passmafdsni')"
   ]
  }
 ],
 "metadata": {
  "kernelspec": {
   "display_name": "Python 3",
   "language": "python",
   "name": "python3"
  },
  "language_info": {
   "codemirror_mode": {
    "name": "ipython",
    "version": 3
   },
   "file_extension": ".py",
   "mimetype": "text/x-python",
   "name": "python",
   "nbconvert_exporter": "python",
   "pygments_lexer": "ipython3",
   "version": "3.11.0 (main, Oct 24 2022, 18:26:48) [MSC v.1933 64 bit (AMD64)]"
  },
  "orig_nbformat": 4,
  "vscode": {
   "interpreter": {
    "hash": "ccc0ef284f665b5fb033224ed4334dd4c810861a1ab44a6ce7ff637cb973648c"
   }
  }
 },
 "nbformat": 4,
 "nbformat_minor": 2
}
