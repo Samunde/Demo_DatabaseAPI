{
 "cells": [
  {
   "cell_type": "code",
   "execution_count": 1,
   "metadata": {},
   "outputs": [],
   "source": [
    "import requests\n",
    "import json\n",
    "from pprint import pp "
   ]
  },
  {
   "attachments": {},
   "cell_type": "markdown",
   "metadata": {},
   "source": [
    "GET Request"
   ]
  },
  {
   "cell_type": "code",
   "execution_count": 5,
   "metadata": {},
   "outputs": [
    {
     "name": "stdout",
     "output_type": "stream",
     "text": [
      "{'userId': 1, 'id': 1, 'title': 'delectus aut autem', 'completed': False}\n",
      "200\n",
      "{'Date': 'Wed, 04 Jan 2023 14:35:16 GMT', 'Content-Type': 'application/json; charset=utf-8', 'Transfer-Encoding': 'chunked', 'Connection': 'keep-alive', 'x-powered-by': 'Express', 'x-ratelimit-limit': '1000', 'x-ratelimit-remaining': '999', 'x-ratelimit-reset': '1640243547', 'vary': 'Origin, Accept-Encoding', 'access-control-allow-credentials': 'true', 'cache-control': 'max-age=43200', 'pragma': 'no-cache', 'expires': '-1', 'x-content-type-options': 'nosniff', 'etag': 'W/\"53-hfEnumeNh6YirfjyjaujcOPPT+s\"', 'via': '1.1 vegur', 'CF-Cache-Status': 'HIT', 'Age': '888', 'Server-Timing': 'cf-q-config;dur=8.000002708286e-06', 'Report-To': '{\"endpoints\":[{\"url\":\"https:\\\\/\\\\/a.nel.cloudflare.com\\\\/report\\\\/v3?s=%2F%2B1XwYdndi5gSJdImBwqj9YUt9Z7xWuOPZIoeU6r2bPqkL2wIEocIE7os2hfcnlsJ76lz3y8Gpitb6i%2B4hhqJYVuXwOCI6E4dajEmHzJKE1RwPwI1IxFtMF28XFLJR0gsG5Io2jz3QqknQVm6tGV\"}],\"group\":\"cf-nel\",\"max_age\":604800}', 'NEL': '{\"success_fraction\":0,\"report_to\":\"cf-nel\",\"max_age\":604800}', 'Server': 'cloudflare', 'CF-RAY': '7844b3236b3b8c78-EWR', 'Content-Encoding': 'gzip', 'alt-svc': 'h3=\":443\"; ma=86400, h3-29=\":443\"; ma=86400'}\n",
      "application/json; charset=utf-8\n"
     ]
    }
   ],
   "source": [
    "api_url = \"https://jsonplaceholder.typicode.com/todos/1\"\n",
    "response=requests.get(api_url)\n",
    "r=response.json()\n",
    "\n",
    "print(r)\n",
    "print(response.status_code)\n",
    "pp(response.headers)\n",
    "print(response.headers[\"Content-Type\"])"
   ]
  },
  {
   "attachments": {},
   "cell_type": "markdown",
   "metadata": {},
   "source": [
    "POST Request"
   ]
  },
  {
   "cell_type": "code",
   "execution_count": 12,
   "metadata": {},
   "outputs": [
    {
     "name": "stdout",
     "output_type": "stream",
     "text": [
      "201\n",
      "{'userId': '1', 'title': 'Buy milk', 'completed': 'False', 'id': 201}\n",
      "{'userId': 1, 'title': 'Buy milk', 'completed': False, 'id': 201}\n"
     ]
    }
   ],
   "source": [
    "api_url = \"https://jsonplaceholder.typicode.com/todos\"\n",
    "todo = {\"userId\": 1, \"title\": \"Buy milk\", \"completed\": False}\n",
    "response=requests.post(api_url,todo)\n",
    "print(response.status_code)\n",
    "print(response.json())\n",
    "headers =  {\"Content-Type\":\"application/json\"}\n",
    "response = requests.post(api_url, data=json.dumps(todo), headers=headers)\n",
    "print(response.json())"
   ]
  },
  {
   "attachments": {},
   "cell_type": "markdown",
   "metadata": {},
   "source": [
    "PUT Requests"
   ]
  }
 ],
 "metadata": {
  "kernelspec": {
   "display_name": "Python 3",
   "language": "python",
   "name": "python3"
  },
  "language_info": {
   "codemirror_mode": {
    "name": "ipython",
    "version": 3
   },
   "file_extension": ".py",
   "mimetype": "text/x-python",
   "name": "python",
   "nbconvert_exporter": "python",
   "pygments_lexer": "ipython3",
   "version": "3.11.0"
  },
  "orig_nbformat": 4,
  "vscode": {
   "interpreter": {
    "hash": "ccc0ef284f665b5fb033224ed4334dd4c810861a1ab44a6ce7ff637cb973648c"
   }
  }
 },
 "nbformat": 4,
 "nbformat_minor": 2
}
